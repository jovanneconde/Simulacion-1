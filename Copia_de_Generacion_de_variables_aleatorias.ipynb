{
  "cells": [
    {
      "cell_type": "markdown",
      "metadata": {
        "id": "view-in-github",
        "colab_type": "text"
      },
      "source": [
        "<a href=\"https://colab.research.google.com/github/jovanneconde/Simulacion-1/blob/main/Copia_de_Generacion_de_variables_aleatorias.ipynb\" target=\"_parent\"><img src=\"https://colab.research.google.com/assets/colab-badge.svg\" alt=\"Open In Colab\"/></a>"
      ]
    },
    {
      "cell_type": "markdown",
      "id": "15b71444",
      "metadata": {
        "id": "15b71444"
      },
      "source": [
        "# **Generación de variable aleatorias**"
      ]
    },
    {
      "cell_type": "code",
      "execution_count": null,
      "id": "d0333f65",
      "metadata": {
        "id": "d0333f65"
      },
      "outputs": [],
      "source": [
        "import matplotlib.pyplot as plt\n",
        "import numpy as np\n",
        "import random"
      ]
    },
    {
      "cell_type": "markdown",
      "id": "45fe6983",
      "metadata": {
        "id": "45fe6983"
      },
      "source": [
        "Generamos una lista vacía para guardar la sucesión de números aleatorios a generar."
      ]
    },
    {
      "cell_type": "code",
      "execution_count": null,
      "id": "802546b0",
      "metadata": {
        "id": "802546b0"
      },
      "outputs": [],
      "source": [
        "Lista=[]"
      ]
    },
    {
      "cell_type": "markdown",
      "id": "1c6da234",
      "metadata": {
        "id": "1c6da234"
      },
      "source": [
        "La función randint() devuelve valores enteros en un intervalo dado."
      ]
    },
    {
      "cell_type": "code",
      "execution_count": null,
      "id": "a13381d4",
      "metadata": {
        "id": "a13381d4"
      },
      "outputs": [],
      "source": [
        "for i in range(1000):        \n",
        "    Lista.append(random.randint(0,2)) "
      ]
    },
    {
      "cell_type": "markdown",
      "id": "13f98a10",
      "metadata": {
        "id": "13f98a10"
      },
      "source": [
        "Podemos construir el histograma y comparar con los valores esperados de la función de distribución de probabilidad, si sabemos que $x_i \\sim U(0,10)$ "
      ]
    },
    {
      "cell_type": "code",
      "execution_count": null,
      "id": "aacb6d44",
      "metadata": {
        "id": "aacb6d44",
        "colab": {
          "base_uri": "https://localhost:8080/",
          "height": 472
        },
        "outputId": "34035e20-ff6d-484c-997e-91abfa1b5f6f"
      },
      "outputs": [
        {
          "output_type": "display_data",
          "data": {
            "text/plain": [
              "<Figure size 640x480 with 1 Axes>"
            ],
            "image/png": "[encoded data removed]"
          },
          "metadata": {}
        }
      ],
      "source": [
        "plt.hist(Lista, bins = 10, color = \"blue\", rwidth=0.9)\n",
        "plt.title(\"Ejemplo Histograma\")\n",
        "plt.xlabel(\"Números Aleatorios\")\n",
        "plt.ylabel(\"Frecuencia\")\n",
        "plt.show()"
      ]
    },
    {
      "cell_type": "markdown",
      "id": "5f23c61d",
      "metadata": {
        "id": "5f23c61d"
      },
      "source": [
        "Y podemos calcular la media, la varianza y la desviación estándar para comprobar:"
      ]
    },
    {
      "cell_type": "code",
      "execution_count": null,
      "id": "ecefa912",
      "metadata": {
        "id": "ecefa912",
        "colab": {
          "base_uri": "https://localhost:8080/"
        },
        "outputId": "3f167627-8c3b-441e-a6ad-9321375c9c9d"
      },
      "outputs": [
        {
          "output_type": "execute_result",
          "data": {
            "text/plain": [
              "0.976"
            ]
          },
          "metadata": {},
          "execution_count": 61
        }
      ],
      "source": [
        "np.mean(Lista)"
      ]
    },
    {
      "cell_type": "code",
      "execution_count": null,
      "id": "464e1f53",
      "metadata": {
        "id": "464e1f53",
        "colab": {
          "base_uri": "https://localhost:8080/"
        },
        "outputId": "73cf6ad3-c6b9-4dea-9cae-6df3839cc953"
      },
      "outputs": [
        {
          "output_type": "execute_result",
          "data": {
            "text/plain": [
              "0.6654240000000001"
            ]
          },
          "metadata": {},
          "execution_count": 62
        }
      ],
      "source": [
        "np.var(Lista)"
      ]
    },
    {
      "cell_type": "code",
      "execution_count": null,
      "id": "30ce2169",
      "metadata": {
        "id": "30ce2169",
        "colab": {
          "base_uri": "https://localhost:8080/"
        },
        "outputId": "f2a1d39d-9341-45eb-b1a9-6e06eefd7e7f"
      },
      "outputs": [
        {
          "output_type": "execute_result",
          "data": {
            "text/plain": [
              "0.8157352511691524"
            ]
          },
          "metadata": {},
          "execution_count": 63
        }
      ],
      "source": [
        "np.std(Lista)"
      ]
    },
    {
      "cell_type": "code",
      "execution_count": null,
      "id": "ea088c1e",
      "metadata": {
        "id": "ea088c1e"
      },
      "outputs": [],
      "source": []
    },
    {
      "cell_type": "markdown",
      "id": "4ba67944",
      "metadata": {
        "id": "4ba67944"
      },
      "source": [
        "## ¿Cómo podemos generar una lista de números aleatorios que sigan una distribución normal?"
      ]
    },
    {
      "cell_type": "markdown",
      "id": "855f2e6a",
      "metadata": {
        "id": "855f2e6a"
      },
      "source": [
        "Podemos utilizar el Teorema Centra del Límite: Dadas las variables $T_1, T_2,..., T_n$ identicamente distribuidas e independientes, se tiene que:\n",
        "\n",
        "$$\\frac{\\bar{T}-\\mu_T}{\\frac{\\sigma_T}{\\sqrt{n}}}=\\frac{\\sqrt{n}(\\frac{1}{n}\\sum_{i=1}^n T_i - E(T_i)) }{\\sqrt{Var(T_i)}} \\sim N(0,1)$$\n",
        "\n",
        "para $n$ suficientemente grande."
      ]
    },
    {
      "cell_type": "markdown",
      "id": "b5f104e6",
      "metadata": {
        "id": "b5f104e6"
      },
      "source": [
        "**Ejercicio:** Genere números aleatorios distribuidos uniformenete entre 0 y 1 y use la fórmula anterior para generar números distribuidos de manera normal en el mismo intervalo. Elabore el histograma correspondiente. "
      ]
    },
    {
      "cell_type": "code",
      "execution_count": null,
      "id": "ed81a320",
      "metadata": {
        "id": "ed81a320",
        "colab": {
          "base_uri": "https://localhost:8080/"
        },
        "outputId": "105e7524-770a-4dcd-8573-0d2da93d0faa"
      },
      "outputs": [
        {
          "output_type": "stream",
          "name": "stdout",
          "text": [
            "[-0.34258812 -1.23928881  1.36803012  2.01893222  2.70878845  0.62813963\n",
            "  0.09683825  1.53845425  1.3858443   2.60158453]\n"
          ]
        }
      ],
      "source": [
        "from scipy.stats import norm\n",
        "import numpy as np\n",
        "\n",
        "# Generar 10 números aleatorios con media 0 y desviación estándar 1\n",
        "#mu, sigma = 0, 1 # media y desviación estándar\n",
        "num_aleatorios = norm.rvs(loc=0, scale=1, size=10)\n",
        "\n",
        "print(num_aleatorios)"
      ]
    }
  ],
  "metadata": {
    "kernelspec": {
      "display_name": "Python 3 (ipykernel)",
      "language": "python",
      "name": "python3"
    },
    "language_info": {
      "codemirror_mode": {
        "name": "ipython",
        "version": 3
      },
      "file_extension": ".py",
      "mimetype": "text/x-python",
      "name": "python",
      "nbconvert_exporter": "python",
      "pygments_lexer": "ipython3",
      "version": "3.7.3"
    },
    "colab": {
      "provenance": [],
      "include_colab_link": true
    }
  },
  "nbformat": 4,
  "nbformat_minor": 5
}